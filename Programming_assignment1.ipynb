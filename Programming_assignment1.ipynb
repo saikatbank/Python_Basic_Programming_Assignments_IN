{
 "cells": [
  {
   "cell_type": "markdown",
   "id": "57b05e2d",
   "metadata": {},
   "source": [
    "Q.1"
   ]
  },
  {
   "cell_type": "code",
   "execution_count": 1,
   "id": "d2625f98",
   "metadata": {},
   "outputs": [
    {
     "name": "stdout",
     "output_type": "stream",
     "text": [
      "hello\n"
     ]
    }
   ],
   "source": [
    "print('Hello Python')"
   ]
  },
  {
   "cell_type": "markdown",
   "id": "466eeb01",
   "metadata": {},
   "source": [
    "Q.2"
   ]
  },
  {
   "cell_type": "code",
   "execution_count": 4,
   "id": "cfeb8881",
   "metadata": {},
   "outputs": [
    {
     "name": "stdout",
     "output_type": "stream",
     "text": [
      "2\n",
      "0\n",
      "The sum of 2.0 and 0.0 is 2.0\n",
      "Division is not possible because the following error happen:\n",
      "float division by zero\n"
     ]
    }
   ],
   "source": [
    "a=float(input('First number= '))\n",
    "b=float(input('Second number= '))\n",
    "print(f'The sum of {a} and {b} is {a+b}')\n",
    "try:\n",
    "    print(f'The division of {a} by {b} is {a/b}')\n",
    "except Exception as e:\n",
    "    print('Division is not possible because the following error happen:')\n",
    "    print(e)"
   ]
  },
  {
   "cell_type": "markdown",
   "id": "bba408b8",
   "metadata": {},
   "source": [
    "Q.3"
   ]
  },
  {
   "cell_type": "code",
   "execution_count": 1,
   "id": "cdf581eb",
   "metadata": {},
   "outputs": [
    {
     "name": "stdout",
     "output_type": "stream",
     "text": [
      "Length of 1st side=  3\n",
      "Length of 2nd side= 4\n",
      "Length of 3rd side= 5\n",
      "The area of the triangle is 6.0\n"
     ]
    }
   ],
   "source": [
    "import math\n",
    "def area_triangle(a,b,c):\n",
    "    s=(a+b+c)/2\n",
    "    area=math.sqrt(s*(s-a)*(s-b)*(s-c))\n",
    "    return area\n",
    "a=float(input('Length of 1st side=  '))\n",
    "b=float(input('Length of 2nd side= '))\n",
    "c=float(input('Length of 3rd side= '))\n",
    "print(f'The area of the triangle is {area_triangle(a,b,c)}')"
   ]
  },
  {
   "cell_type": "markdown",
   "id": "cb700651",
   "metadata": {},
   "source": [
    "Q.4"
   ]
  },
  {
   "cell_type": "code",
   "execution_count": 3,
   "id": "2307299b",
   "metadata": {},
   "outputs": [
    {
     "name": "stdout",
     "output_type": "stream",
     "text": [
      "a= 3\n",
      "b= 4\n",
      "output is:\n",
      "a=4\n",
      "b=3\n"
     ]
    }
   ],
   "source": [
    "a=int(input('a= '))\n",
    "b=int(input('b= '))\n",
    "a,b=b,a\n",
    "print('output is:')\n",
    "print(f'a={a}')\n",
    "print(f'b={b}')"
   ]
  },
  {
   "cell_type": "markdown",
   "id": "717c3ddf",
   "metadata": {},
   "source": [
    "Q.5"
   ]
  },
  {
   "cell_type": "code",
   "execution_count": 5,
   "id": "61ecd730",
   "metadata": {},
   "outputs": [
    {
     "name": "stdout",
     "output_type": "stream",
     "text": [
      "0.3304133646130951\n"
     ]
    }
   ],
   "source": [
    "import numpy as np\n",
    "a=np.random.rand()\n",
    "print(a)"
   ]
  },
  {
   "cell_type": "code",
   "execution_count": null,
   "id": "aead931b",
   "metadata": {},
   "outputs": [],
   "source": []
  }
 ],
 "metadata": {
  "kernelspec": {
   "display_name": "Python 3",
   "language": "python",
   "name": "python3"
  },
  "language_info": {
   "codemirror_mode": {
    "name": "ipython",
    "version": 3
   },
   "file_extension": ".py",
   "mimetype": "text/x-python",
   "name": "python",
   "nbconvert_exporter": "python",
   "pygments_lexer": "ipython3",
   "version": "3.8.8"
  }
 },
 "nbformat": 4,
 "nbformat_minor": 5
}
