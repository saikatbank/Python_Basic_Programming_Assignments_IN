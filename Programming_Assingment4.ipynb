{
 "cells": [
  {
   "cell_type": "markdown",
   "id": "031e1bfe",
   "metadata": {},
   "source": [
    "## Q.1. Factorial of a Number"
   ]
  },
  {
   "cell_type": "code",
   "execution_count": 1,
   "id": "f5c0bbcc",
   "metadata": {},
   "outputs": [
    {
     "name": "stdout",
     "output_type": "stream",
     "text": [
      "Number : 6\n",
      "The factorial of 6 is 720\n"
     ]
    }
   ],
   "source": [
    "def factorial(n):\n",
    "    fact = 1\n",
    "    for i in range(1,n+1):\n",
    "        fact = fact * i\n",
    "    return fact\n",
    "\n",
    "\n",
    "\n",
    "# main code\n",
    "\n",
    "n = int(input('Number : '))\n",
    "\n",
    "print(f'The factorial of {n} is', factorial(n))"
   ]
  },
  {
   "cell_type": "markdown",
   "id": "41936d1a",
   "metadata": {},
   "source": [
    "## Q.2. Display the multiplication Table"
   ]
  },
  {
   "cell_type": "code",
   "execution_count": 2,
   "id": "e3f5d138",
   "metadata": {},
   "outputs": [
    {
     "name": "stdout",
     "output_type": "stream",
     "text": [
      "Number: 13\n",
      "13 * 1 = 13\n",
      "13 * 2 = 26\n",
      "13 * 3 = 39\n",
      "13 * 4 = 52\n",
      "13 * 5 = 65\n",
      "13 * 6 = 78\n",
      "13 * 7 = 91\n",
      "13 * 8 = 104\n",
      "13 * 9 = 117\n",
      "13 * 10 = 130\n"
     ]
    }
   ],
   "source": [
    "def mul_table(n):\n",
    "    for i in range(1,11):\n",
    "        print(f'{n} * {i} = {n*i}')\n",
    "        \n",
    "# main code\n",
    "\n",
    "n = int(input('Number: '))\n",
    "\n",
    "mul_table(n)"
   ]
  },
  {
   "cell_type": "markdown",
   "id": "604ea01e",
   "metadata": {},
   "source": [
    "## Q.3. Print the Fibonacci sequence"
   ]
  },
  {
   "cell_type": "code",
   "execution_count": 3,
   "id": "8eca3b26",
   "metadata": {},
   "outputs": [
    {
     "name": "stdout",
     "output_type": "stream",
     "text": [
      "Number: 5\n",
      "first 5 Fibonacci numbers is given below: \n",
      "1\n",
      "1\n",
      "2\n",
      "3\n",
      "5\n"
     ]
    }
   ],
   "source": [
    "def fibo(n):\n",
    "    fibo_list = [0,1]\n",
    "    for i in range(n):\n",
    "        next_term = fibo_list[i] + fibo_list[i+1]\n",
    "        fibo_list.append(next_term)\n",
    "    \n",
    "    fibo_list.remove(0)\n",
    "    for term in fibo_list:\n",
    "        print(term)\n",
    "        \n",
    "# main code\n",
    "\n",
    "n = int(input('Number: '))\n",
    "\n",
    "print(f'first {n} Fibonacci numbers is given below: ')\n",
    "\n",
    "fibo(n-1)"
   ]
  },
  {
   "cell_type": "markdown",
   "id": "9ab996ef",
   "metadata": {},
   "source": [
    "## Q.4. Check Armstrong Number"
   ]
  },
  {
   "cell_type": "code",
   "execution_count": 4,
   "id": "d98d7e04",
   "metadata": {},
   "outputs": [
    {
     "name": "stdout",
     "output_type": "stream",
     "text": [
      "Number: 407\n",
      "407 is an Armstrong Number\n"
     ]
    }
   ],
   "source": [
    "def check_armstrong(n):\n",
    "        number = int(n)\n",
    "        digit_sum = 0\n",
    "        for digit in n:\n",
    "            digit_sum = digit_sum + int(digit)**len(n)\n",
    "        if digit_sum == number:\n",
    "            return True\n",
    "        else:\n",
    "            return False\n",
    "        \n",
    "\n",
    "# main code\n",
    "\n",
    "n = input('Number: ')\n",
    "\n",
    "try:\n",
    "    if check_armstrong(n):\n",
    "        print(f'{n} is an Armstrong Number')\n",
    "    elif  check_armstrong(n) == False:\n",
    "        print(f'{n} is not an Armstrong Number')\n",
    "except Exception as e:\n",
    "    print('\\nPlease enter an Integer\\n')\n",
    "    print('your error is:',e)"
   ]
  },
  {
   "cell_type": "markdown",
   "id": "75e42fd5",
   "metadata": {},
   "source": [
    "## Q.5. Find Armstrong Number in an Interval"
   ]
  },
  {
   "cell_type": "code",
   "execution_count": 5,
   "id": "5042e7ed",
   "metadata": {},
   "outputs": [
    {
     "name": "stdout",
     "output_type": "stream",
     "text": [
      "Strat point: 0\n",
      "End point: 10000\n",
      "In the given interval 0 is an Armstrong Number\n",
      "In the given interval 1 is an Armstrong Number\n",
      "In the given interval 2 is an Armstrong Number\n",
      "In the given interval 3 is an Armstrong Number\n",
      "In the given interval 4 is an Armstrong Number\n",
      "In the given interval 5 is an Armstrong Number\n",
      "In the given interval 6 is an Armstrong Number\n",
      "In the given interval 7 is an Armstrong Number\n",
      "In the given interval 8 is an Armstrong Number\n",
      "In the given interval 9 is an Armstrong Number\n",
      "In the given interval 153 is an Armstrong Number\n",
      "In the given interval 370 is an Armstrong Number\n",
      "In the given interval 371 is an Armstrong Number\n",
      "In the given interval 407 is an Armstrong Number\n",
      "In the given interval 1634 is an Armstrong Number\n",
      "In the given interval 8208 is an Armstrong Number\n",
      "In the given interval 9474 is an Armstrong Number\n"
     ]
    }
   ],
   "source": [
    "start_point = int(input('Strat point: '))\n",
    "end_point = int(input('End point: '))\n",
    "\n",
    "for i in range(start_point, end_point + 1):\n",
    "    i_str = str(i)\n",
    "    if check_armstrong(i_str):\n",
    "        print (f'In the given interval {i} is an Armstrong Number')"
   ]
  },
  {
   "cell_type": "markdown",
   "id": "531c82b8",
   "metadata": {},
   "source": [
    "## Q.6. Find the Sum of Natural Numbers"
   ]
  },
  {
   "cell_type": "code",
   "execution_count": 6,
   "id": "020a2a86",
   "metadata": {},
   "outputs": [
    {
     "name": "stdout",
     "output_type": "stream",
     "text": [
      "Number: 10\n",
      "The sum of first 10 Natural Numbers is 55\n"
     ]
    }
   ],
   "source": [
    "def sum_of_natural_numbers(n):\n",
    "    s = 0\n",
    "    for i in range(1,n+1):\n",
    "        s = s + i\n",
    "    return s\n",
    "\n",
    "# main code\n",
    "\n",
    "n = int(input('Number: '))\n",
    "\n",
    "print(f'The sum of first {n} Natural Numbers is {sum_of_natural_numbers(n)}')"
   ]
  },
  {
   "cell_type": "code",
   "execution_count": null,
   "id": "e83d08be",
   "metadata": {},
   "outputs": [],
   "source": []
  }
 ],
 "metadata": {
  "kernelspec": {
   "display_name": "Python 3",
   "language": "python",
   "name": "python3"
  },
  "language_info": {
   "codemirror_mode": {
    "name": "ipython",
    "version": 3
   },
   "file_extension": ".py",
   "mimetype": "text/x-python",
   "name": "python",
   "nbconvert_exporter": "python",
   "pygments_lexer": "ipython3",
   "version": "3.8.8"
  }
 },
 "nbformat": 4,
 "nbformat_minor": 5
}
