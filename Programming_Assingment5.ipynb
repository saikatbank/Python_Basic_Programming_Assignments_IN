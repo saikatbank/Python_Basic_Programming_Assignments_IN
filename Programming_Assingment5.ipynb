{
 "cells": [
  {
   "cell_type": "markdown",
   "id": "4a823565",
   "metadata": {},
   "source": [
    "## 1.\tWrite a Python Program to Find LCM?"
   ]
  },
  {
   "cell_type": "markdown",
   "id": "d03b0f2c",
   "metadata": {},
   "source": [
    "## 2.   Write a Python Program to Find HCF?"
   ]
  },
  {
   "cell_type": "code",
   "execution_count": 1,
   "id": "ce5fc95f",
   "metadata": {},
   "outputs": [],
   "source": [
    "def hcf_of_two(a,b):     # where a,b are integers\n",
    "        \n",
    "    greater = max(a,b)\n",
    "    hcf = 1\n",
    "    for i in range(2,greater+1):\n",
    "        if (a%i == 0) and (b%i ==0):\n",
    "            hcf = i\n",
    "    return hcf\n",
    "    \n",
    "def hcf(args):    # where args is a tuple_input of numbers\n",
    "    \n",
    "    numbers = args\n",
    "    \n",
    "    hcf = hcf_of_two(numbers[0],numbers[1])\n",
    "        \n",
    "    for i in range(2,len(numbers)):\n",
    "        \n",
    "        hcf = hcf_of_two(hcf,numbers[i])\n",
    "    \n",
    "    return hcf\n",
    "\n",
    "def lcm (args):       # where args is a tuple_input of numbers\n",
    "    numbers = args\n",
    "    lcm = 1\n",
    "    \n",
    "    for i in numbers:\n",
    "        lcm = lcm * (i// hcf_of_two(lcm,i))\n",
    "    \n",
    "    return lcm\n"
   ]
  },
  {
   "cell_type": "code",
   "execution_count": 2,
   "id": "49677bd2",
   "metadata": {},
   "outputs": [],
   "source": [
    "def space_separated_to_tuple_input():\n",
    "    num = input('\\nEnter at least two space separated integers: ')\n",
    "    try:\n",
    "        try:\n",
    "            numbers = num.split()\n",
    "            numbers = tuple(int(x) for x in numbers)\n",
    "        except:\n",
    "            raise Exception('\\nERROR : Please check-\\n1)you entered all integers or not \\n2)it is space separated or not\\n')\n",
    "        \n",
    "        if len(numbers)<2:\n",
    "            raise Exception('\\nERROR : Enter atleast two integers\\n')\n",
    "        else:\n",
    "            return numbers            \n",
    "            \n",
    "    except Exception as e:\n",
    "        print(e)\n",
    "        return space_separated_to_tuple_input()"
   ]
  },
  {
   "cell_type": "code",
   "execution_count": 3,
   "id": "128012d1",
   "metadata": {},
   "outputs": [
    {
     "name": "stdout",
     "output_type": "stream",
     "text": [
      "\n",
      "Enter at least two space separated integers: 10\n",
      "\n",
      "ERROR : Enter atleast two integers\n",
      "\n",
      "\n",
      "Enter at least two space separated integers: 10 A\n",
      "\n",
      "ERROR : Please check-\n",
      "1)you entered all integers or not \n",
      "2)it is space separated or not\n",
      "\n",
      "\n",
      "Enter at least two space separated integers: 15 20 10\n",
      "lcm = 60\n"
     ]
    }
   ],
   "source": [
    "## main code for question NO.1\n",
    "\n",
    "numbers = space_separated_to_tuple_input()\n",
    "\n",
    "print(f'lcm = {lcm(numbers)}')"
   ]
  },
  {
   "cell_type": "code",
   "execution_count": 4,
   "id": "98f8478f",
   "metadata": {},
   "outputs": [
    {
     "name": "stdout",
     "output_type": "stream",
     "text": [
      "\n",
      "Enter at least two space separated integers: 50 60.3\n",
      "\n",
      "ERROR : Please check-\n",
      "1)you entered all integers or not \n",
      "2)it is space separated or not\n",
      "\n",
      "\n",
      "Enter at least two space separated integers: 60 100 80 40\n",
      "hcf = 20\n"
     ]
    }
   ],
   "source": [
    "## main code for question NO.2\n",
    "\n",
    "numbers = space_separated_to_tuple_input()\n",
    "print(f'hcf = {hcf(numbers)}')"
   ]
  },
  {
   "cell_type": "markdown",
   "id": "dc1b5d61",
   "metadata": {},
   "source": [
    "## 3.\tWrite a Python Program to Convert Decimal to Binary, Octal and Hexadecimal?"
   ]
  },
  {
   "cell_type": "code",
   "execution_count": 5,
   "id": "5861954f",
   "metadata": {},
   "outputs": [
    {
     "name": "stdout",
     "output_type": "stream",
     "text": [
      "number = 17\n",
      "Binary form of 17 is 10001\n",
      "Octal form of 17 is 21\n",
      "Hexadecimal form of 17 is 11\n"
     ]
    }
   ],
   "source": [
    "n = int(input('number = '))\n",
    "\n",
    "print(f\"Binary form of {n} is {bin(n).replace('0b','')}\")\n",
    "print(f\"Octal form of {n} is {oct(n).replace('0o','')}\")\n",
    "print(f\"Hexadecimal form of {n} is {hex(n).replace('0x','').capitalize()}\")"
   ]
  },
  {
   "cell_type": "markdown",
   "id": "e622d8f1",
   "metadata": {},
   "source": [
    "## 4.\tWrite a Python Program To Find ASCII value of a character?"
   ]
  },
  {
   "cell_type": "code",
   "execution_count": 6,
   "id": "c35b0e9d",
   "metadata": {},
   "outputs": [
    {
     "name": "stdout",
     "output_type": "stream",
     "text": [
      "A\n",
      "The ASCII value of A is 65\n"
     ]
    }
   ],
   "source": [
    "alphabet = input()\n",
    "\n",
    "print(f'The ASCII value of {alphabet} is {ord(alphabet)}')"
   ]
  },
  {
   "cell_type": "markdown",
   "id": "848823df",
   "metadata": {},
   "source": [
    "## 5.\tWrite a Python Program to Make a Simple Calculator with 4 basic mathematical operations?"
   ]
  },
  {
   "cell_type": "code",
   "execution_count": 8,
   "id": "265e0b86",
   "metadata": {},
   "outputs": [
    {
     "name": "stdout",
     "output_type": "stream",
     "text": [
      "\n",
      "Choose(add/sub/multi/div): 2\n",
      "\n",
      "ERROR : Enter valid operation\n",
      "\n",
      "\n",
      "Choose(add/sub/multi/div): DIV\n",
      "\n",
      "ERROR : Enter valid operation\n",
      "\n",
      "\n",
      "Choose(add/sub/multi/div): div\n",
      "\n",
      "First Number: add\n",
      "\n",
      "ERROR : Please enter floating number\n",
      "\n",
      "\n",
      "First Number: 5\n",
      "\n",
      "Second Number: a\n",
      "\n",
      "ERROR : Please enter floating number\n",
      "\n",
      "\n",
      "Second Number: @\n",
      "\n",
      "ERROR : Please enter floating number\n",
      "\n",
      "\n",
      "Second Number: 0\n",
      "\n",
      "division is not possible for the following reason:\n",
      "\n",
      " Second Number = 0\n"
     ]
    }
   ],
   "source": [
    "def operation_input():\n",
    "    operation = input('\\nChoose(add/sub/multi/div): ')\n",
    "    if operation == 'add' or operation == 'sub' or operation == 'multi' or operation == 'div':\n",
    "        return operation\n",
    "    else:\n",
    "        print('\\nERROR : Enter valid operation\\n')\n",
    "        return operation_input()\n",
    "\n",
    "def float_input(msg):\n",
    "    try:\n",
    "        number = input('\\n' + msg)\n",
    "        number = float(number)\n",
    "        return number\n",
    "    except:\n",
    "        print('\\nERROR : Please enter floating number\\n')\n",
    "        return float_input(msg)\n",
    "    \n",
    "    \n",
    "def calculator():\n",
    "    operation = operation_input()\n",
    "    first_number = float_input('First Number: ')\n",
    "    second_number = float_input('Second Number: ')\n",
    "\n",
    "    if operation == 'add':\n",
    "        print(f'\\nthe sum of {first_number} and {second_number} is {first_number+second_number}')\n",
    "    if operation == 'sub':\n",
    "        print(f'\\nthe subtraction of {second_number} from {first_number} is {first_number-second_number}')\n",
    "    if operation == 'multi':\n",
    "        print(f'\\nthe multiplication of {first_number} and {second_number} is {first_number*second_number}')\n",
    "    if operation == 'div':\n",
    "        if second_number == 0:\n",
    "            print('\\ndivision is not possible for the following reason:\\n\\n Second Number = 0')\n",
    "        else:\n",
    "            print(f'\\ndivision of {first_number} by {second_number} is {first_number/second_number}')\n",
    "            \n",
    "# main code\n",
    "\n",
    "calculator()"
   ]
  },
  {
   "cell_type": "code",
   "execution_count": null,
   "id": "b8118b36",
   "metadata": {},
   "outputs": [],
   "source": []
  }
 ],
 "metadata": {
  "kernelspec": {
   "display_name": "Python 3",
   "language": "python",
   "name": "python3"
  },
  "language_info": {
   "codemirror_mode": {
    "name": "ipython",
    "version": 3
   },
   "file_extension": ".py",
   "mimetype": "text/x-python",
   "name": "python",
   "nbconvert_exporter": "python",
   "pygments_lexer": "ipython3",
   "version": "3.8.8"
  }
 },
 "nbformat": 4,
 "nbformat_minor": 5
}
